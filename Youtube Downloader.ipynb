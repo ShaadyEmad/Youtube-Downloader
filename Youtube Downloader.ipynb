{
 "cells": [
  {
   "cell_type": "markdown",
   "id": "3a4b4c28",
   "metadata": {},
   "source": [
    "# Import Libraries"
   ]
  },
  {
   "cell_type": "code",
   "execution_count": null,
   "id": "8ca2680b",
   "metadata": {},
   "outputs": [],
   "source": [
    "from pytube import YouTube\n",
    "from moviepy.editor import *\n",
    "import os\n",
    "import time"
   ]
  },
  {
   "cell_type": "markdown",
   "id": "8c620870",
   "metadata": {},
   "source": [
    "# Function to Download videos"
   ]
  },
  {
   "cell_type": "code",
   "execution_count": null,
   "id": "8a2fcbcd",
   "metadata": {},
   "outputs": [],
   "source": [
    "def download_youtube_video(url, output_directory):\n",
    "    try:\n",
    "        # Create the output directory if it doesn't exist\n",
    "        os.makedirs(output_directory, exist_ok=True)\n",
    "\n",
    "        # Download the YouTube video\n",
    "        yt = YouTube(url)\n",
    "        video_title = yt.title\n",
    "        video = yt.streams.filter(res='360p').first()\n",
    "        video_file_path = os.path.join(output_directory, f\"test.mp4\")\n",
    "        video.download(output_path=output_directory, filename=\"test.mp4\")\n",
    "\n",
    "        print(f\"Downloaded {yt.title} successfully.\")\n",
    "        return video_file_path , video_title\n",
    "    except Exception as e:\n",
    "        print(f\"Error: {e}\")\n",
    "        return None"
   ]
  },
  {
   "cell_type": "markdown",
   "id": "e8206909",
   "metadata": {},
   "source": [
    "# Function to Convert video to MP3"
   ]
  },
  {
   "cell_type": "code",
   "execution_count": null,
   "id": "8c9dcda7",
   "metadata": {},
   "outputs": [],
   "source": [
    "def convert_video_to_mp3(input_video_path, output_audio_path):\n",
    "    try:\n",
    "        # Load the video file\n",
    "        video = VideoFileClip(input_video_path)\n",
    "\n",
    "        # Extract the audio from the video\n",
    "        audio = video.audio\n",
    "\n",
    "        # Save the audio as an MP3 file\n",
    "        audio.write_audiofile(output_audio_path)\n",
    "\n",
    "        # Close the audio and video streams\n",
    "        audio.close()\n",
    "        video.close()\n",
    "\n",
    "        print(\"Conversion completed successfully.\")\n",
    "\n",
    "    except Exception as e:\n",
    "        print(f\"Error: {e}\")"
   ]
  },
  {
   "cell_type": "markdown",
   "id": "b27632b0",
   "metadata": {},
   "source": [
    "# Main Function"
   ]
  },
  {
   "cell_type": "code",
   "execution_count": null,
   "id": "bc82720a",
   "metadata": {},
   "outputs": [],
   "source": [
    "if __name__ == \"__main__\":\n",
    "    \n",
    "    # Set the directory where you want to save the downloaded video and audio\n",
    "    output_directory = \"C:/Users/Shady Emad/Desktop/Music/\"  \n",
    "    \n",
    "    download_type = input('write \"v\" if you want to downnload videos \\nwrite \"a\" if you want to downnload audio\\n')\n",
    "    input_links  = input('send me all links (link in each line)\\n')\n",
    "    links = input_links.strip().split()\n",
    "    \n",
    "    \n",
    "    if download_type == \"v\":\n",
    "        for youtube_link in links:\n",
    "            video_path, video_title = download_youtube_video(youtube_link, output_directory)\n",
    "        print(\"Done all videos\")   \n",
    "        \n",
    "        \n",
    "    elif download_type == \"a\":\n",
    "        for youtube_link in links:\n",
    "            video_path, video_title = download_youtube_video(youtube_link, output_directory)\n",
    "            time.sleep(5)\n",
    "            # Convert the video to audio (MP3)\n",
    "            if video_path:\n",
    "                audio_path = os.path.join(output_directory, f\"{video_title}.mp3\")\n",
    "                convert_video_to_mp3(video_path, audio_path)\n",
    "\n",
    "            # Step 3: Remove the video file\n",
    "            os.remove(video_path)\n",
    "            \n",
    "        print(\"Done all audios\")\n",
    "    else:\n",
    "        pass\n",
    "            "
   ]
  }
 ],
 "metadata": {
  "kernelspec": {
   "display_name": "Python 3 (ipykernel)",
   "language": "python",
   "name": "python3"
  },
  "language_info": {
   "codemirror_mode": {
    "name": "ipython",
    "version": 3
   },
   "file_extension": ".py",
   "mimetype": "text/x-python",
   "name": "python",
   "nbconvert_exporter": "python",
   "pygments_lexer": "ipython3",
   "version": "3.9.7"
  }
 },
 "nbformat": 4,
 "nbformat_minor": 5
}
